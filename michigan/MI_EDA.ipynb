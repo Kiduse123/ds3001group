{
  "nbformat": 4,
  "nbformat_minor": 0,
  "metadata": {
    "colab": {
      "provenance": [],
      "authorship_tag": "ABX9TyPFNFbT0yFbJtqZ6i3IKciR",
      "include_colab_link": true
    },
    "kernelspec": {
      "name": "python3",
      "display_name": "Python 3"
    },
    "language_info": {
      "name": "python"
    }
  },
  "cells": [
    {
      "cell_type": "markdown",
      "metadata": {
        "id": "view-in-github",
        "colab_type": "text"
      },
      "source": [
        "<a href=\"https://colab.research.google.com/github/emilymacris/ds3001group/blob/main/MI_EDA.ipynb\" target=\"_parent\"><img src=\"https://colab.research.google.com/assets/colab-badge.svg\" alt=\"Open In Colab\"/></a>"
      ]
    },
    {
      "cell_type": "code",
      "execution_count": null,
      "metadata": {
        "id": "ywpu2Hb2Z3QZ"
      },
      "outputs": [],
      "source": [
        "# Packages\n",
        "\n",
        "import pandas as pd\n",
        "import numpy as np\n",
        "import matplotlib.pyplot as plt\n",
        "import seaborn as sns"
      ]
    },
    {
      "cell_type": "code",
      "source": [
        "# Read in files\n",
        "\n",
        "poverty = pd.read_csv(\"/Users/vaibhavjha/ds3001group/nevada/nvpoverty.csv\")\n",
        "poverty.head(20)\n",
        "\n",
        "outcomes2020 = pd.read_csv(\"/Users/vaibhavjha/ds3001group/nevada/nevadaoutcomes2020.csv\")\n",
        "outcomes2020.head(10)"
      ],
      "metadata": {
        "id": "tguFGwmQZ_fE"
      },
      "execution_count": null,
      "outputs": []
    }
  ]
}
