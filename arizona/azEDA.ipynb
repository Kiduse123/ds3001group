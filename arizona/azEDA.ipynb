{
  "cells": [
    {
      "cell_type": "code",
      "source": [
        "! git clone https://github.com/rixprakash/ds3001group"
      ],
      "metadata": {
        "id": "aj9Y-Wbtb9a1",
        "outputId": "6f1b2302-f902-4224-e73c-b75917e760dd",
        "colab": {
          "base_uri": "https://localhost:8080/"
        }
      },
      "id": "aj9Y-Wbtb9a1",
      "execution_count": 1,
      "outputs": [
        {
          "output_type": "stream",
          "name": "stdout",
          "text": [
            "Cloning into 'ds3001group'...\n",
            "remote: Enumerating objects: 205, done.\u001b[K\n",
            "remote: Counting objects: 100% (72/72), done.\u001b[K\n",
            "remote: Compressing objects: 100% (71/71), done.\u001b[K\n",
            "remote: Total 205 (delta 28), reused 3 (delta 1), pack-reused 133 (from 1)\u001b[K\n",
            "Receiving objects: 100% (205/205), 24.59 MiB | 12.50 MiB/s, done.\n",
            "Resolving deltas: 100% (70/70), done.\n"
          ]
        }
      ]
    },
    {
      "cell_type": "code",
      "execution_count": null,
      "id": "945e6ddb-2b51-45ae-a69d-322b83666d13",
      "metadata": {
        "id": "945e6ddb-2b51-45ae-a69d-322b83666d13"
      },
      "outputs": [],
      "source": [
        "# Packages\n",
        "\n",
        "import pandas as pd\n",
        "import numpy as np\n",
        "import matplotlib.pyplot as plt\n",
        "import seaborn as sns"
      ]
    },
    {
      "cell_type": "code",
      "execution_count": null,
      "id": "32087d89-0051-4b25-8f59-d9ddeb180f17",
      "metadata": {
        "id": "32087d89-0051-4b25-8f59-d9ddeb180f17"
      },
      "outputs": [],
      "source": [
        "# Read in files\n",
        "\n",
        "poverty = pd.read_csv(\"\")\n",
        "poverty.head(20)\n",
        "\n",
        "outcomes2020 = pd.read_csv(\"/Users/vaibhavjha/ds3001group/nevada/nevadaoutcomes2020.csv\")\n",
        "outcomes2020.head(10)"
      ]
    },
    {
      "cell_type": "code",
      "execution_count": null,
      "id": "45ddd210-f90f-4cdd-9262-e128198909a2",
      "metadata": {
        "id": "45ddd210-f90f-4cdd-9262-e128198909a2"
      },
      "outputs": [],
      "source": [
        "# Wrangling\n",
        "\n",
        "poverty = poverty.drop([0,1, 38, 39])\n",
        "print(poverty)\n",
        "\n",
        "poverty['Percent in Poverty'].unique()\n",
        "poverty['Percent in Poverty'].value_counts()\n",
        "poverty['Percent in Poverty'].isnull().sum() # No missing values\n"
      ]
    },
    {
      "cell_type": "code",
      "execution_count": null,
      "id": "e14b30e2-1a76-44db-aa68-b13aea3a097f",
      "metadata": {
        "id": "e14b30e2-1a76-44db-aa68-b13aea3a097f"
      },
      "outputs": [],
      "source": [
        "# Matching column names of files to merge\n",
        "poverty['Name'] = poverty['Name'].str.replace(' County', '')\n",
        "poverty.head(15)\n",
        "poverty['Name'] = poverty['Name'].str.upper()\n",
        "poverty.head(15)"
      ]
    },
    {
      "cell_type": "code",
      "execution_count": null,
      "id": "8dc8e781-3062-49d3-8734-296738776054",
      "metadata": {
        "id": "8dc8e781-3062-49d3-8734-296738776054"
      },
      "outputs": [],
      "source": [
        "# Merge outcomes2020 with poverty\n",
        "# Problem: poverty has years beyond just 2020, need to merge only with 2020 rows\n",
        "\n",
        "poverty2020 = poverty[poverty['Year'] == 2020]\n",
        "merged_df = pd.merge(poverty2020, outcomes2020, left_on='Name', right_on='county_name', how='outer')\n",
        "print(merged_df)"
      ]
    },
    {
      "cell_type": "code",
      "execution_count": null,
      "id": "fd0e065c-5a02-4173-80ae-cea40253b620",
      "metadata": {
        "id": "fd0e065c-5a02-4173-80ae-cea40253b620"
      },
      "outputs": [],
      "source": [
        "# EDA\n",
        "poverty['Percent in Poverty'].hist() # Histogram distribution\n",
        "print('Mean: ', poverty['Percent in Poverty'].mean() ) # Measures of central tendency\n",
        "print('Median: ', poverty['Percent in Poverty'].median() )\n",
        "print('Mode: ', poverty['Percent in Poverty'].mode() )\n",
        "print(poverty.shape[0]) # 55 rows\n",
        "\n",
        "merged_df.boxplot(column = 'Percent in Poverty',by = 'party')"
      ]
    },
    {
      "cell_type": "code",
      "execution_count": null,
      "id": "f42503f2-8f28-49fb-ab96-c0d588f20833",
      "metadata": {
        "id": "f42503f2-8f28-49fb-ab96-c0d588f20833"
      },
      "outputs": [],
      "source": []
    },
    {
      "cell_type": "code",
      "execution_count": null,
      "id": "2d2b15de-ffe8-462a-9c91-8b730fdbcbcf",
      "metadata": {
        "id": "2d2b15de-ffe8-462a-9c91-8b730fdbcbcf"
      },
      "outputs": [],
      "source": []
    }
  ],
  "metadata": {
    "kernelspec": {
      "display_name": "Python 3 (ipykernel)",
      "language": "python",
      "name": "python3"
    },
    "language_info": {
      "codemirror_mode": {
        "name": "ipython",
        "version": 3
      },
      "file_extension": ".py",
      "mimetype": "text/x-python",
      "name": "python",
      "nbconvert_exporter": "python",
      "pygments_lexer": "ipython3",
      "version": "3.12.4"
    },
    "colab": {
      "provenance": []
    }
  },
  "nbformat": 4,
  "nbformat_minor": 5
}