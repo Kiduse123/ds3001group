{
 "cells": [
  {
   "cell_type": "code",
   "execution_count": 1,
   "id": "945e6ddb-2b51-45ae-a69d-322b83666d13",
   "metadata": {},
   "outputs": [],
   "source": [
    "# Packages\n",
    "\n",
    "import pandas as pd\n",
    "import numpy as np\n",
    "import matplotlib.pyplot as plt\n",
    "import seaborn as sns"
   ]
  },
  {
   "cell_type": "code",
   "execution_count": null,
   "id": "32087d89-0051-4b25-8f59-d9ddeb180f17",
   "metadata": {},
   "outputs": [],
   "source": [
    "# Read in files\n",
    "\n",
    "poverty = pd.read_csv(\"/Users/vaibhavjha/ds3001group/nevada/nvpoverty.csv\")\n",
    "poverty.head(20)\n",
    "\n",
    "outcomes2020 = pd.read_csv(\"/Users/vaibhavjha/ds3001group/nevada/nevadaoutcomes2020.csv\")\n",
    "outcomes2020.head(10)"
   ]
  },
  {
   "cell_type": "code",
   "execution_count": null,
   "id": "45ddd210-f90f-4cdd-9262-e128198909a2",
   "metadata": {},
   "outputs": [],
   "source": [
    "# Wrangling\n",
    "\n",
    "poverty = poverty.drop([0,1, 38, 39])\n",
    "print(poverty)\n",
    "\n",
    "poverty['Percent in Poverty'].unique()\n",
    "poverty['Percent in Poverty'].value_counts()\n",
    "poverty['Percent in Poverty'].isnull().sum() # No missing values\n"
   ]
  },
  {
   "cell_type": "code",
   "execution_count": null,
   "id": "e14b30e2-1a76-44db-aa68-b13aea3a097f",
   "metadata": {},
   "outputs": [],
   "source": [
    "# Matching column names of files to merge\n",
    "poverty['Name'] = poverty['Name'].str.replace(' County', '')\n",
    "poverty.head(15)\n",
    "poverty['Name'] = poverty['Name'].str.upper()\n",
    "poverty.head(15)"
   ]
  },
  {
   "cell_type": "code",
   "execution_count": null,
   "id": "8dc8e781-3062-49d3-8734-296738776054",
   "metadata": {},
   "outputs": [],
   "source": [
    "# Merge outcomes2020 with poverty\n",
    "# Problem: poverty has years beyond just 2020, need to merge only with 2020 rows\n",
    "\n",
    "poverty2020 = poverty[poverty['Year'] == 2020]\n",
    "merged_df = pd.merge(poverty2020, outcomes2020, left_on='Name', right_on='county_name', how='outer')\n",
    "print(merged_df)"
   ]
  },
  {
   "cell_type": "code",
   "execution_count": null,
   "id": "fd0e065c-5a02-4173-80ae-cea40253b620",
   "metadata": {},
   "outputs": [],
   "source": [
    "# EDA\n",
    "poverty['Percent in Poverty'].hist() # Histogram distribution\n",
    "print('Mean: ', poverty['Percent in Poverty'].mean() ) # Measures of central tendency\n",
    "print('Median: ', poverty['Percent in Poverty'].median() )\n",
    "print('Mode: ', poverty['Percent in Poverty'].mode() )\n",
    "print(poverty.shape[0]) # 55 rows\n",
    "\n",
    "merged_df.boxplot(column = 'Percent in Poverty',by = 'party')"
   ]
  },
  {
   "cell_type": "code",
   "execution_count": null,
   "id": "f42503f2-8f28-49fb-ab96-c0d588f20833",
   "metadata": {},
   "outputs": [],
   "source": []
  },
  {
   "cell_type": "code",
   "execution_count": null,
   "id": "2d2b15de-ffe8-462a-9c91-8b730fdbcbcf",
   "metadata": {},
   "outputs": [],
   "source": []
  }
 ],
 "metadata": {
  "kernelspec": {
   "display_name": "Python 3 (ipykernel)",
   "language": "python",
   "name": "python3"
  },
  "language_info": {
   "codemirror_mode": {
    "name": "ipython",
    "version": 3
   },
   "file_extension": ".py",
   "mimetype": "text/x-python",
   "name": "python",
   "nbconvert_exporter": "python",
   "pygments_lexer": "ipython3",
   "version": "3.12.4"
  }
 },
 "nbformat": 4,
 "nbformat_minor": 5
}
