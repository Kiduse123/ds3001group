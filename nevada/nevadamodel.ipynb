{
 "cells": [
  {
   "cell_type": "code",
   "execution_count": 30,
   "id": "945e6ddb-2b51-45ae-a69d-322b83666d13",
   "metadata": {},
   "outputs": [],
   "source": [
    "# Packages\n",
    "\n",
    "import pandas as pd\n",
    "import numpy as np\n",
    "import matplotlib.pyplot as plt\n",
    "import seaborn as sns"
   ]
  },
  {
   "cell_type": "code",
   "execution_count": 42,
   "id": "32087d89-0051-4b25-8f59-d9ddeb180f17",
   "metadata": {},
   "outputs": [],
   "source": [
    "# Read in files\n",
    "\n",
    "outcomes = pd.read_excel(\"/Users/vaibhavjha/ds3001group/dataverse_files/WinningPartyByCounties.xlsx\") # party outcome at county level\n",
    "\n",
    "rawdemo2012 = pd.read_excel(\"/Users/vaibhavjha/ds3001group/dataverse_files/demographicsallstates2012.xlsx\") # demographic variables at county level 2012\n",
    "rawdemo2016 = pd.read_excel(\"/Users/vaibhavjha/ds3001group/dataverse_files/demographicsallstates2016.xlsx\") # demographic variables at county level 2016\n",
    "rawdemo2020 = pd.read_excel(\"/Users/vaibhavjha/ds3001group/dataverse_files/demographicsallstates2020.xlsx\") # demographic variables at county level 2020\n",
    "\n",
    "nvpoverty = pd.read_csv(\"/Users/vaibhavjha/ds3001group/nevada/nvpoverty.csv\") # poverty variable at county level -- Nevada\n",
    "nvpoverty = nvpoverty.drop([0,1, 38, 39]) # Drop national and state level statistics\n",
    "\n",
    "prediction = pd.read_excel(\"/Users/vaibhavjha/ds3001group/2022data.xlsx\")"
   ]
  },
  {
   "cell_type": "code",
   "execution_count": 32,
   "id": "261b2fbc-81c8-4b9c-9a7d-103242c21f80",
   "metadata": {},
   "outputs": [],
   "source": [
    "# Filter files for Nevada\n",
    "\n",
    "nvoutcomes = outcomes[outcomes['state'] == 'NEVADA'] # filtered outcome variable for Nevada\n",
    "\n",
    "demo2012 = rawdemo2012[rawdemo2012['State Name'] == 'Nevada']\n",
    "demo2016 = rawdemo2016[rawdemo2016['State Name'] == 'Nevada']\n",
    "demo2020 = rawdemo2020[rawdemo2020['State Name'] == 'Nevada'] # filtered demographic variables for Nevada"
   ]
  },
  {
   "cell_type": "code",
   "execution_count": 33,
   "id": "085813d8-d9ce-4aa8-9f4a-b697f9658cad",
   "metadata": {},
   "outputs": [],
   "source": [
    "# Separate outcomes & poverty by year\n",
    "\n",
    "nvoutcomes2012 = nvoutcomes[nvoutcomes['year'] == 2012]\n",
    "nvoutcomes2016 = nvoutcomes[nvoutcomes['year'] == 2016]\n",
    "nvoutcomes2020 = nvoutcomes[nvoutcomes['year'] == 2020] # separated outcomes variable by year\n",
    "\n",
    "nvpoverty2012 = nvpoverty[nvpoverty['Year'] == 2012]\n",
    "nvpoverty2016 = nvpoverty[nvpoverty['Year'] == 2016]\n",
    "nvpoverty2020 = nvpoverty[nvpoverty['Year'] == 2020] # separated poverty variable by year"
   ]
  },
  {
   "cell_type": "code",
   "execution_count": 34,
   "id": "00046c58-ce68-4799-a268-c8c719ca2226",
   "metadata": {},
   "outputs": [],
   "source": [
    "# Merge\n",
    "\n",
    "election2012 = pd.merge(demo2012, nvpoverty2012, left_on='County Name', right_on='Name', how='outer') # Merge poverty with demographics\n",
    "election2012 = pd.merge(election2012, nvoutcomes2012, left_on='ID', right_on='county_fips', how='outer') # Merge outcomes with election2012\n",
    "# now have a complete file for 2012\n",
    "\n",
    "election2016 = pd.merge(demo2016, nvpoverty2016, left_on='County Name', right_on='Name', how='outer') # Merge poverty with demographics\n",
    "election2016 = pd.merge(election2016, nvoutcomes2016, left_on='ID', right_on='county_fips', how='outer') # Merge outcomes with election2016\n",
    "# now have a complete file for 2016\n",
    "\n",
    "election2020 = pd.merge(demo2020, nvpoverty2020, left_on='County Name', right_on='Name', how='outer') # Merge poverty with demographics\n",
    "election2020 = pd.merge(election2020, nvoutcomes2020, left_on='ID', right_on='county_fips', how='outer') # Merge outcomes with election2012\n",
    "# now have a complete file for 2020\n",
    "\n"
   ]
  },
  {
   "cell_type": "code",
   "execution_count": null,
   "id": "e3f6be45-0f90-4142-8046-63bc01acdf73",
   "metadata": {},
   "outputs": [],
   "source": [
    "# Prepare prediction data\n",
    "\n",
    "nvprediction = prediction[prediction['State Name'] == 'Nevada']\n",
    "\n",
    "nvprediction = nvprediction[['County Name','Males Under 18 Percentage','Males 18-24 Percentage','Males 25-34 Percentage',\n",
    "                           'Males 35-44 Percentage', 'Males 45-64 Percentage', 'Males 65+ Percentage', 'Females Under 18 Percentage',\n",
    "                           'Females 18-24 Percentage', 'Females 25-34 Percentage', 'Females 35-44 Percentage', 'Females 45-64 Percentage',\n",
    "                           'Females 65+ Percentage', \n",
    "                           'White alone Percentage', 'Black or African American alone Percentage', 'American Indian and Alaska Native alone Percentage', \n",
    "                           'Asian alone Percentage', 'Native Hawaiian and Other Pacific Islander alone Percentage', \n",
    "                           'Some other race alone Percentage', 'Two or more races Percentage', 'Two or more races: Two races including Some other race Percentage',\n",
    "                           'Two or more races: Two races excluding Some other race, and three or more races Percentage', \n",
    "                           'No schooling completed Percentage', 'Nursery school Percentage','Kindergarten Percentage', '1st grade Percentage', '2nd grade Percentage', \n",
    "                           '3rd grade Percentage', '4th grade Percentage', '5th grade Percentage', '6th grade Percentage', '7th grade Percentage', '8th grade Percentage', \n",
    "                           '9th grade Percentage', '10th grade Percentage', '11th grade Percentage', '12th grade, no diploma Percentage', 'Regular high school diploma Percentage',\n",
    "                           'GED or alternative credential Percentage', 'Some college, less than 1 year Percentage', 'Some college, 1 or more years, no degree Percentage',\n",
    "                           \"Associate's degree Percentage\", \"Bachelor's degree Percentage\", \"Master's degree Percentage\", 'Professional school degree Percentage',\n",
    "                           'Doctorate degree Percentage', \n",
    "                           'less than $39,999 Percentage', '$40,000-$74,999 Percentage', '$75,000-$99,999 Percentage', '$100,000-$149,999 Percentage', '$150,000-$199,999 Percentage', 'more than $200,000 Percentage',]]\n",
    "\n",
    "nvprediction.head(10)\n",
    "# Prediction data ready. Missing poverty statistics and median income statistics\n"
   ]
  },
  {
   "cell_type": "code",
   "execution_count": 51,
   "id": "64b0b49c-82b1-46ed-b428-325930fd9f63",
   "metadata": {},
   "outputs": [],
   "source": [
    "# Put together training/testing data across years.\n",
    "\n",
    "elections = pd.concat([election2012, election2016, election2020], axis=0, ignore_index=True)\n",
    "finalelections = elections[['County Name','Males Under 18 Percentage','Males 18-24 Percentage','Males 25-34 Percentage',\n",
    "                           'Males 35-44 Percentage', 'Males 45-64 Percentage', 'Males 65+ Percentage', 'Females Under 18 Percentage',\n",
    "                           'Females 18-24 Percentage', 'Females 25-34 Percentage', 'Females 35-44 Percentage', 'Females 45-64 Percentage',\n",
    "                           'Females 65+ Percentage', \n",
    "                           'White alone Percentage', 'Black or African American alone Percentage', 'American Indian and Alaska Native alone Percentage', \n",
    "                           'Asian alone Percentage', 'Native Hawaiian and Other Pacific Islander alone Percentage', \n",
    "                           'Some other race alone Percentage', 'Two or more races Percentage', 'Two or more races: Two races including Some other race Percentage',\n",
    "                           'Two or more races: Two races excluding Some other race, and three or more races Percentage', \n",
    "                           'No schooling completed Percentage', 'Nursery school Percentage','Kindergarten Percentage', '1st grade Percentage', '2nd grade Percentage', \n",
    "                           '3rd grade Percentage', '4th grade Percentage', '5th grade Percentage', '6th grade Percentage', '7th grade Percentage', '8th grade Percentage', \n",
    "                           '9th grade Percentage', '10th grade Percentage', '11th grade Percentage', '12th grade, no diploma Percentage', 'Regular high school diploma Percentage',\n",
    "                           'GED or alternative credential Percentage', 'Some college, less than 1 year Percentage', 'Some college, 1 or more years, no degree Percentage',\n",
    "                           \"Associate's degree Percentage\", \"Bachelor's degree Percentage\", \"Master's degree Percentage\", 'Professional school degree Percentage',\n",
    "                           'Doctorate degree Percentage', \n",
    "                           'less than $39,999 Percentage', '$40,000-$74,999 Percentage', '$75,000-$99,999 Percentage', '$100,000-$149,999 Percentage', '$150,000-$199,999 Percentage', 'more than $200,000 Percentage',\n",
    "                           'Median household income in the past 12 months (in 2016 inflation-adjusted dollars)',\n",
    "                           'Per capita income in the past 12 months (in 2016 inflation-adjusted dollars)', \n",
    "                           'In labor force Percentage', 'Not in labor force Percentage', 'Poverty Universe', 'Number in Poverty', '90% Confidence Interval', \n",
    "                           'Percent in Poverty', \n",
    "                           'party']]"
   ]
  },
  {
   "cell_type": "code",
   "execution_count": 40,
   "id": "3dfdb2cf-f582-460d-bcad-a34b4f0ac41c",
   "metadata": {},
   "outputs": [],
   "source": []
  }
 ],
 "metadata": {
  "kernelspec": {
   "display_name": "Python 3 (ipykernel)",
   "language": "python",
   "name": "python3"
  },
  "language_info": {
   "codemirror_mode": {
    "name": "ipython",
    "version": 3
   },
   "file_extension": ".py",
   "mimetype": "text/x-python",
   "name": "python",
   "nbconvert_exporter": "python",
   "pygments_lexer": "ipython3",
   "version": "3.12.4"
  }
 },
 "nbformat": 4,
 "nbformat_minor": 5
}
