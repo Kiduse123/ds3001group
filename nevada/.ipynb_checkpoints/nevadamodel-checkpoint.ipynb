{
 "cells": [
  {
   "cell_type": "code",
   "execution_count": null,
   "id": "945e6ddb-2b51-45ae-a69d-322b83666d13",
   "metadata": {
    "collapsed": true,
    "jupyter": {
     "outputs_hidden": true
    }
   },
   "outputs": [],
   "source": [
    "# Packages\n",
    "\n",
    "import pandas as pd\n",
    "import numpy as np\n",
    "import matplotlib.pyplot as plt\n",
    "import seaborn as sns"
   ]
  },
  {
   "cell_type": "code",
   "execution_count": null,
   "id": "32087d89-0051-4b25-8f59-d9ddeb180f17",
   "metadata": {
    "collapsed": true,
    "jupyter": {
     "outputs_hidden": true
    }
   },
   "outputs": [],
   "source": [
    "# Read in files\n",
    "\n",
    "outcomes = pd.read_excel(\"/Users/vaibhavjha/ds3001group/dataverse_files/WinningPartyByCounties.xlsx\") # party outcome at county level\n",
    "\n",
    "rawdemo2012 = pd.read_excel(\"/Users/vaibhavjha/ds3001group/dataverse_files/demographicsallstates2012.xlsx\") # demographic variables at county level 2012\n",
    "rawdemo2016 = pd.read_excel(\"/Users/vaibhavjha/ds3001group/dataverse_files/demographicsallstates2016.xlsx\") # demographic variables at county level 2016\n",
    "rawdemo2020 = pd.read_excel(\"/Users/vaibhavjha/ds3001group/dataverse_files/demographicsallstates2020.xlsx\") # demographic variables at county level 2020\n",
    "\n",
    "nvpoverty = pd.read_csv(\"/Users/vaibhavjha/ds3001group/nevada/nvpoverty.csv\") # poverty variable at county level -- Nevada\n",
    "nvpoverty = nvpoverty.drop([0,1, 38, 39]) # Drop national and state level statistics"
   ]
  },
  {
   "cell_type": "code",
   "execution_count": null,
   "id": "261b2fbc-81c8-4b9c-9a7d-103242c21f80",
   "metadata": {
    "collapsed": true,
    "jupyter": {
     "outputs_hidden": true
    }
   },
   "outputs": [],
   "source": [
    "# Filter files for Nevada\n",
    "\n",
    "nvoutcomes = outcomes[outcomes['state'] == 'NEVADA'] # filtered outcome variable for Nevada\n",
    "\n",
    "demo2012 = rawdemo2012[rawdemo2012['State Name'] == 'Nevada']\n",
    "demo2016 = rawdemo2016[rawdemo2016['State Name'] == 'Nevada']\n",
    "demo2020 = rawdemo2020[rawdemo2020['State Name'] == 'Nevada'] # filtered demographic variables for Nevada"
   ]
  },
  {
   "cell_type": "code",
   "execution_count": null,
   "id": "085813d8-d9ce-4aa8-9f4a-b697f9658cad",
   "metadata": {
    "collapsed": true,
    "jupyter": {
     "outputs_hidden": true
    }
   },
   "outputs": [],
   "source": [
    "# Separate outcomes & poverty by year\n",
    "\n",
    "nvoutcomes2012 = nvoutcomes[nvoutcomes['year'] == 2012]\n",
    "nvoutcomes2016 = nvoutcomes[nvoutcomes['year'] == 2016]\n",
    "nvoutcomes2020 = nvoutcomes[nvoutcomes['year'] == 2020] # separated outcomes variable by year\n",
    "\n",
    "nvpoverty2012 = nvpoverty[nvpoverty['Year'] == 2012]\n",
    "nvpoverty2016 = nvpoverty[nvpoverty['Year'] == 2016]\n",
    "nvpoverty2020 = nvpoverty[nvpoverty['Year'] == 2020] # separated poverty variable by year"
   ]
  },
  {
   "cell_type": "code",
   "execution_count": null,
   "id": "00046c58-ce68-4799-a268-c8c719ca2226",
   "metadata": {
    "collapsed": true,
    "jupyter": {
     "outputs_hidden": true
    }
   },
   "outputs": [],
   "source": [
    "# Merge\n",
    "\n",
    "election2012 = pd.merge(demo2012, nvpoverty2012, left_on='County Name', right_on='Name', how='outer') # Merge poverty with demographics\n",
    "election2012 = pd.merge(election2012, nvoutcomes2012, left_on='ID', right_on='county_fips', how='outer') # Merge outcomes with election2012\n",
    "# now have a complete file for 2012\n",
    "\n",
    "election2016 = pd.merge(demo2016, nvpoverty2016, left_on='County Name', right_on='Name', how='outer') # Merge poverty with demographics\n",
    "election2016 = pd.merge(election2016, nvoutcomes2016, left_on='ID', right_on='county_fips', how='outer') # Merge outcomes with election2016\n",
    "# now have a complete file for 2016\n",
    "\n",
    "election2020 = pd.merge(demo2020, nvpoverty2020, left_on='County Name', right_on='Name', how='outer') # Merge poverty with demographics\n",
    "election2020 = pd.merge(election2020, nvoutcomes2020, left_on='ID', right_on='county_fips', how='outer') # Merge outcomes with election2012\n",
    "# now have a complete file for 2020"
   ]
  }
 ],
 "metadata": {
  "kernelspec": {
   "display_name": "Python 3 (ipykernel)",
   "language": "python",
   "name": "python3"
  },
  "language_info": {
   "codemirror_mode": {
    "name": "ipython",
    "version": 3
   },
   "file_extension": ".py",
   "mimetype": "text/x-python",
   "name": "python",
   "nbconvert_exporter": "python",
   "pygments_lexer": "ipython3",
   "version": "3.12.4"
  }
 },
 "nbformat": 4,
 "nbformat_minor": 5
}
