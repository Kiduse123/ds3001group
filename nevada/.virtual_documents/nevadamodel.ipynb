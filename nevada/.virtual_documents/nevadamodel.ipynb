# Packages

import pandas as pd
import numpy as np
import matplotlib.pyplot as plt
import seaborn as sns


# Read in files

outcomes = pd.read_excel("/Users/vaibhavjha/ds3001group/dataverse_files/WinningPartyByCounties.xlsx") # party outcome at county level

rawdemo2012 = pd.read_excel("/Users/vaibhavjha/ds3001group/dataverse_files/demographicsallstates2012.xlsx") # demographic variables at county level 2012
rawdemo2016 = pd.read_excel("/Users/vaibhavjha/ds3001group/dataverse_files/demographicsallstates2016.xlsx") # demographic variables at county level 2016
rawdemo2020 = pd.read_excel("/Users/vaibhavjha/ds3001group/dataverse_files/demographicsallstates2020.xlsx") # demographic variables at county level 2020

nvpoverty = pd.read_csv("/Users/vaibhavjha/ds3001group/nevada/nvpoverty.csv") # poverty variable at county level -- Nevada
nvpoverty = nvpoverty.drop([0,1, 38, 39]) # Drop national and state level statistics

prediction = pd.read_excel("/Users/vaibhavjha/ds3001group/2022data.xlsx")
prediction.head(10)


# Filter files for Nevada

nvoutcomes = outcomes[outcomes['state'] == 'NEVADA'] # filtered outcome variable for Nevada

demo2012 = rawdemo2012[rawdemo2012['State Name'] == 'Nevada']
demo2016 = rawdemo2016[rawdemo2016['State Name'] == 'Nevada']
demo2020 = rawdemo2020[rawdemo2020['State Name'] == 'Nevada'] # filtered demographic variables for Nevada


# Separate outcomes & poverty by year

nvoutcomes2012 = nvoutcomes[nvoutcomes['year'] == 2012]
nvoutcomes2016 = nvoutcomes[nvoutcomes['year'] == 2016]
nvoutcomes2020 = nvoutcomes[nvoutcomes['year'] == 2020] # separated outcomes variable by year

nvpoverty2012 = nvpoverty[nvpoverty['Year'] == 2012]
nvpoverty2016 = nvpoverty[nvpoverty['Year'] == 2016]
nvpoverty2020 = nvpoverty[nvpoverty['Year'] == 2020] # separated poverty variable by year


# Merge

election2012 = pd.merge(demo2012, nvpoverty2012, left_on='County Name', right_on='Name', how='outer') # Merge poverty with demographics
election2012 = pd.merge(election2012, nvoutcomes2012, left_on='ID', right_on='county_fips', how='outer') # Merge outcomes with election2012
# now have a complete file for 2012

election2016 = pd.merge(demo2016, nvpoverty2016, left_on='County Name', right_on='Name', how='outer') # Merge poverty with demographics
election2016 = pd.merge(election2016, nvoutcomes2016, left_on='ID', right_on='county_fips', how='outer') # Merge outcomes with election2016
# now have a complete file for 2016

election2020 = pd.merge(demo2020, nvpoverty2020, left_on='County Name', right_on='Name', how='outer') # Merge poverty with demographics
election2020 = pd.merge(election2020, nvoutcomes2020, left_on='ID', right_on='county_fips', how='outer') # Merge outcomes with election2012
# now have a complete file for 2020




# Prepare prediction data

nvprediction = prediction[prediction['State Name'] == 'Nevada']

nvprediction = nvprediction[['County Name','Males Under 18 Percentage','Males 18-24 Percentage','Males 25-34 Percentage',
                           'Males 35-44 Percentage', 'Males 45-64 Percentage', 'Males 65+ Percentage', 'Females Under 18 Percentage',
                           'Females 18-24 Percentage', 'Females 25-34 Percentage', 'Females 35-44 Percentage', 'Females 45-64 Percentage',
                           'Females 65+ Percentage', 
                           'White alone Percentage', 'Black or African American alone Percentage', 'American Indian and Alaska Native alone Percentage', 
                           'Asian alone Percentage', 'Native Hawaiian and Other Pacific Islander alone Percentage', 
                           'Some other race alone Percentage', 'Two or more races Percentage', 'Two or more races: Two races including Some other race Percentage',
                           'Two or more races: Two races excluding Some other race, and three or more races Percentage', 
                           'No schooling completed Percentage', 'Nursery school Percentage','Kindergarten Percentage', '1st grade Percentage', '2nd grade Percentage', 
                           '3rd grade Percentage', '4th grade Percentage', '5th grade Percentage', '6th grade Percentage', '7th grade Percentage', '8th grade Percentage', 
                           '9th grade Percentage', '10th grade Percentage', '11th grade Percentage', '12th grade, no diploma Percentage', 'Regular high school diploma Percentage',
                           'GED or alternative credential Percentage', 'Some college, less than 1 year Percentage', 'Some college, 1 or more years, no degree Percentage',
                           "Associate's degree Percentage", "Bachelor's degree Percentage", "Master's degree Percentage", 'Professional school degree Percentage',
                           'Doctorate degree Percentage', 
                           'less than $39,999 Percentage', '$40,000-$74,999 Percentage', '$75,000-$99,999 Percentage', '$100,000-$149,999 Percentage', '$150,000-$199,999 Percentage', 'more than $200,000 Percentage',]]

nvprediction.head(100)
# Prediction data ready. Missing poverty statistics and median income statistics


# Put together train/test data
elections = pd.concat([election2012, election2016, election2020], axis=0, ignore_index=True)
finalelections = elections[['Males Under 18 Percentage','Males 18-24 Percentage','Males 25-34 Percentage',
                           'Males 35-44 Percentage', 'Males 45-64 Percentage', 'Males 65+ Percentage', 'Females Under 18 Percentage',
                           'Females 18-24 Percentage', 'Females 25-34 Percentage', 'Females 35-44 Percentage', 'Females 45-64 Percentage',
                           'Females 65+ Percentage', 
                           'White alone Percentage', 'Black or African American alone Percentage', 'American Indian and Alaska Native alone Percentage', 
                           'Asian alone Percentage', 'Native Hawaiian and Other Pacific Islander alone Percentage', 
                           'Some other race alone Percentage', 'Two or more races Percentage', 'Two or more races: Two races including Some other race Percentage',
                           'Two or more races: Two races excluding Some other race, and three or more races Percentage', 
                           'No schooling completed Percentage', 'Nursery school Percentage','Kindergarten Percentage', '1st grade Percentage', '2nd grade Percentage', 
                           '3rd grade Percentage', '4th grade Percentage', '5th grade Percentage', '6th grade Percentage', '7th grade Percentage', '8th grade Percentage', 
                           '9th grade Percentage', '10th grade Percentage', '11th grade Percentage', '12th grade, no diploma Percentage', 'Regular high school diploma Percentage',
                           'GED or alternative credential Percentage', 'Some college, less than 1 year Percentage', 'Some college, 1 or more years, no degree Percentage',
                           "Associate's degree Percentage", "Bachelor's degree Percentage", "Master's degree Percentage", 'Professional school degree Percentage',
                           'Doctorate degree Percentage', 
                           'less than $39,999 Percentage', '$40,000-$74,999 Percentage', '$75,000-$99,999 Percentage', '$100,000-$149,999 Percentage', '$150,000-$199,999 Percentage', 'more than $200,000 Percentage']]



# Train-test split
from sklearn.model_selection import train_test_split

# Process data:
X = finalelections[['Males Under 18 Percentage','Males 18-24 Percentage','Males 25-34 Percentage',
                           'Males 35-44 Percentage', 'Males 45-64 Percentage', 'Males 65+ Percentage', 'Females Under 18 Percentage',
                           'Females 18-24 Percentage', 'Females 25-34 Percentage', 'Females 35-44 Percentage', 'Females 45-64 Percentage',
                           'Females 65+ Percentage', 
                           'White alone Percentage', 'Black or African American alone Percentage', 'American Indian and Alaska Native alone Percentage', 
                           'Asian alone Percentage', 'Native Hawaiian and Other Pacific Islander alone Percentage', 
                           'Some other race alone Percentage', 'Two or more races Percentage', 'Two or more races: Two races including Some other race Percentage',
                           'Two or more races: Two races excluding Some other race, and three or more races Percentage', 
                           'No schooling completed Percentage', 'Nursery school Percentage','Kindergarten Percentage', '1st grade Percentage', '2nd grade Percentage', 
                           '3rd grade Percentage', '4th grade Percentage', '5th grade Percentage', '6th grade Percentage', '7th grade Percentage', '8th grade Percentage', 
                           '9th grade Percentage', '10th grade Percentage', '11th grade Percentage', '12th grade, no diploma Percentage', 'Regular high school diploma Percentage',
                           'GED or alternative credential Percentage', 'Some college, less than 1 year Percentage', 'Some college, 1 or more years, no degree Percentage',
                           "Associate's degree Percentage", "Bachelor's degree Percentage", "Master's degree Percentage", 'Professional school degree Percentage',
                           'Doctorate degree Percentage', 
                           'less than $39,999 Percentage', '$40,000-$74,999 Percentage', '$75,000-$99,999 Percentage', '$100,000-$149,999 Percentage', '$150,000-$199,999 Percentage', 'more than $200,000 Percentage']]
y = finalelections['party'] 

# Train-test split:
X_train, X_test, y_train, y_test = train_test_split(X,y,test_size=.2,random_state=100)
print(f"X_train shape: {X_train.shape}") # got it done


# Building the model
from sklearn.ensemble import RandomForestRegressor

# Fit model:
model = RandomForestRegressor() # Build a random forest model
rf = model.fit(X_train,y_train) # Fit the rf model



