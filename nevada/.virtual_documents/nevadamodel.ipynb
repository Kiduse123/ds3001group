# Packages

import pandas as pd
import numpy as np
import matplotlib.pyplot as plt
import seaborn as sns


# Read in files

outcomes = pd.read_excel("/Users/vaibhavjha/ds3001group/dataverse_files/WinningPartyByCounties.xlsx") # party outcome at county level

rawdemo2012 = pd.read_excel("/Users/vaibhavjha/ds3001group/dataverse_files/demographicsallstates2012.xlsx") # demographic variables at county level 2012
rawdemo2016 = pd.read_excel("/Users/vaibhavjha/ds3001group/dataverse_files/demographicsallstates2016.xlsx") # demographic variables at county level 2016
rawdemo2020 = pd.read_excel("/Users/vaibhavjha/ds3001group/dataverse_files/demographicsallstates2020.xlsx") # demographic variables at county level 2020

nvpoverty = pd.read_csv("/Users/vaibhavjha/ds3001group/nevada/nvpoverty.csv") # poverty variable at county level -- Nevada
nvpoverty = nvpoverty.drop([0,1, 38, 39]) # Drop national and state level statistics


# Filter files for Nevada

nvoutcomes = outcomes[outcomes['state'] == 'NEVADA'] # filtered outcome variable for Nevada

demo2012 = rawdemo2012[rawdemo2012['State Name'] == 'Nevada']
demo2016 = rawdemo2016[rawdemo2016['State Name'] == 'Nevada']
demo2020 = rawdemo2020[rawdemo2020['State Name'] == 'Nevada'] # filtered demographic variables for Nevada


# Separate outcomes & poverty by year

nvoutcomes2012 = nvoutcomes[nvoutcomes['year'] == 2012]
nvoutcomes2016 = nvoutcomes[nvoutcomes['year'] == 2016]
nvoutcomes2020 = nvoutcomes[nvoutcomes['year'] == 2020] # separated outcomes variable by year

nvpoverty2012 = nvpoverty[nvpoverty['Year'] == 2012]
nvpoverty2016 = nvpoverty[nvpoverty['Year'] == 2016]
nvpoverty2020 = nvpoverty[nvpoverty['Year'] == 2020] # separated poverty variable by year


# Merge

election2012 = pd.merge(demo2012, nvpoverty2012, left_on='County Name', right_on='Name', how='outer') # Merge poverty with demographics
election2012 = pd.merge(election2012, nvoutcomes2012, left_on='ID', right_on='county_fips', how='outer') # Merge outcomes with election2012
# now have a complete file for 2012

election2016 = pd.merge(demo2016, nvpoverty2016, left_on='County Name', right_on='Name', how='outer') # Merge poverty with demographics
election2016 = pd.merge(election2016, nvoutcomes2016, left_on='ID', right_on='county_fips', how='outer') # Merge outcomes with election2016
# now have a complete file for 2016

election2020 = pd.merge(demo2020, nvpoverty2020, left_on='County Name', right_on='Name', how='outer') # Merge poverty with demographics
election2020 = pd.merge(election2020, nvoutcomes2020, left_on='ID', right_on='county_fips', how='outer') # Merge outcomes with election2012
# now have a complete file for 2020

allelections = election2012 + election2016 + election2020


merged_df.shape






