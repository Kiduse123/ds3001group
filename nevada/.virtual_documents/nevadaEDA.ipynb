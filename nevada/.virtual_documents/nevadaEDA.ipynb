# Packages

import pandas as pd
import numpy as np
import matplotlib.pyplot as plt
import seaborn as sns


# Read in files

poverty = pd.read_csv("/Users/vaibhavjha/ds3001group/nevada/nvpoverty.csv")
poverty.head(20)

outcomes2020 = pd.read_csv("/Users/vaibhavjha/ds3001group/nevada/nevadaoutcomes2020.csv")
outcomes2020.head(10)


# Wrangling

poverty = poverty.drop([0,1, 38, 39])
print(poverty)

poverty['Percent in Poverty'].unique()
poverty['Percent in Poverty'].value_counts()
poverty['Percent in Poverty'].isnull().sum() # No missing values



# Matching column names of files to merge
poverty['Name'] = poverty['Name'].str.replace(' County', '')
poverty.head(15)
poverty['Name'] = poverty['Name'].str.upper()
poverty.head(15)


# Merge outcomes2020 with poverty
# Problem: poverty has years beyond just 2020, need to merge only with 2020 rows

poverty2020 = poverty[poverty['Year'] == 2020]
merged_df = pd.merge(poverty2020, outcomes2020, left_on='Name', right_on='county_name', how='outer')
print(merged_df)


# EDA
poverty['Percent in Poverty'].hist() # Histogram distribution
print('Mean: ', poverty['Percent in Poverty'].mean() ) # Measures of central tendency
print('Median: ', poverty['Percent in Poverty'].median() )
print('Mode: ', poverty['Percent in Poverty'].mode() )
print(poverty.shape[0]) # 55 rows

merged_df.boxplot(column = 'Percent in Poverty',by = 'party')






